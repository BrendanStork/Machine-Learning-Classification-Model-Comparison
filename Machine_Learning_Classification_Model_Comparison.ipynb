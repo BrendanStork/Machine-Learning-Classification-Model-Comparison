{
 "cells": [
  {
   "cell_type": "code",
   "execution_count": 394,
   "metadata": {},
   "outputs": [],
   "source": [
    "#Imports libraries\n",
    "import pandas as pd\n",
    "import matplotlib.pyplot as plt\n",
    "from pandas.plotting import scatter_matrix\n",
    "import numpy as np\n",
    "import seaborn as sns\n",
    "import random as rd\n",
    "\n",
    "from sklearn.neighbors import KNeighborsClassifier\n",
    "import sklearn.linear_model as skl_lm\n",
    "from sklearn.linear_model import LogisticRegression\n",
    "from sklearn.discriminant_analysis import LinearDiscriminantAnalysis\n",
    "from sklearn.discriminant_analysis import QuadraticDiscriminantAnalysis\n",
    "from sklearn.metrics import confusion_matrix, classification_report, precision_score, f1_score, accuracy_score, recall_score\n",
    "from sklearn import preprocessing\n",
    "from sklearn import neighbors\n",
    "from sklearn.tree import DecisionTreeClassifier\n",
    "from sklearn.model_selection import KFold\n",
    "from sklearn.linear_model import Lasso\n",
    "\n",
    "import statsmodels.api as sm\n",
    "import statsmodels.formula.api as smf"
   ]
  },
  {
   "cell_type": "code",
   "execution_count": 395,
   "metadata": {},
   "outputs": [],
   "source": [
    "import sklearn as sk"
   ]
  },
  {
   "cell_type": "code",
   "execution_count": 396,
   "metadata": {},
   "outputs": [],
   "source": [
    "dataset = pd.read_csv(\"penguins.csv\") #Reads datas"
   ]
  },
  {
   "cell_type": "code",
   "execution_count": 397,
   "metadata": {
    "scrolled": false
   },
   "outputs": [
    {
     "data": {
      "text/html": [
       "<div>\n",
       "<style scoped>\n",
       "    .dataframe tbody tr th:only-of-type {\n",
       "        vertical-align: middle;\n",
       "    }\n",
       "\n",
       "    .dataframe tbody tr th {\n",
       "        vertical-align: top;\n",
       "    }\n",
       "\n",
       "    .dataframe thead th {\n",
       "        text-align: right;\n",
       "    }\n",
       "</style>\n",
       "<table border=\"1\" class=\"dataframe\">\n",
       "  <thead>\n",
       "    <tr style=\"text-align: right;\">\n",
       "      <th></th>\n",
       "      <th>species</th>\n",
       "      <th>island</th>\n",
       "      <th>bill_length_mm</th>\n",
       "      <th>bill_depth_mm</th>\n",
       "      <th>flipper_length_mm</th>\n",
       "      <th>body_mass_g</th>\n",
       "      <th>sex</th>\n",
       "      <th>year</th>\n",
       "    </tr>\n",
       "  </thead>\n",
       "  <tbody>\n",
       "    <tr>\n",
       "      <th>0</th>\n",
       "      <td>Adelie</td>\n",
       "      <td>Torgersen</td>\n",
       "      <td>39.1</td>\n",
       "      <td>18.7</td>\n",
       "      <td>181.0</td>\n",
       "      <td>3750.0</td>\n",
       "      <td>male</td>\n",
       "      <td>2007</td>\n",
       "    </tr>\n",
       "    <tr>\n",
       "      <th>1</th>\n",
       "      <td>Adelie</td>\n",
       "      <td>Torgersen</td>\n",
       "      <td>39.5</td>\n",
       "      <td>17.4</td>\n",
       "      <td>186.0</td>\n",
       "      <td>3800.0</td>\n",
       "      <td>female</td>\n",
       "      <td>2007</td>\n",
       "    </tr>\n",
       "    <tr>\n",
       "      <th>2</th>\n",
       "      <td>Adelie</td>\n",
       "      <td>Torgersen</td>\n",
       "      <td>40.3</td>\n",
       "      <td>18.0</td>\n",
       "      <td>195.0</td>\n",
       "      <td>3250.0</td>\n",
       "      <td>female</td>\n",
       "      <td>2007</td>\n",
       "    </tr>\n",
       "    <tr>\n",
       "      <th>3</th>\n",
       "      <td>Adelie</td>\n",
       "      <td>Torgersen</td>\n",
       "      <td>NaN</td>\n",
       "      <td>NaN</td>\n",
       "      <td>NaN</td>\n",
       "      <td>NaN</td>\n",
       "      <td>NaN</td>\n",
       "      <td>2007</td>\n",
       "    </tr>\n",
       "    <tr>\n",
       "      <th>4</th>\n",
       "      <td>Adelie</td>\n",
       "      <td>Torgersen</td>\n",
       "      <td>36.7</td>\n",
       "      <td>19.3</td>\n",
       "      <td>193.0</td>\n",
       "      <td>3450.0</td>\n",
       "      <td>female</td>\n",
       "      <td>2007</td>\n",
       "    </tr>\n",
       "  </tbody>\n",
       "</table>\n",
       "</div>"
      ],
      "text/plain": [
       "  species     island  bill_length_mm  bill_depth_mm  flipper_length_mm  \\\n",
       "0  Adelie  Torgersen            39.1           18.7              181.0   \n",
       "1  Adelie  Torgersen            39.5           17.4              186.0   \n",
       "2  Adelie  Torgersen            40.3           18.0              195.0   \n",
       "3  Adelie  Torgersen             NaN            NaN                NaN   \n",
       "4  Adelie  Torgersen            36.7           19.3              193.0   \n",
       "\n",
       "   body_mass_g     sex  year  \n",
       "0       3750.0    male  2007  \n",
       "1       3800.0  female  2007  \n",
       "2       3250.0  female  2007  \n",
       "3          NaN     NaN  2007  \n",
       "4       3450.0  female  2007  "
      ]
     },
     "execution_count": 397,
     "metadata": {},
     "output_type": "execute_result"
    }
   ],
   "source": [
    "#Dataset head\n",
    "dataset.head()"
   ]
  },
  {
   "cell_type": "markdown",
   "metadata": {},
   "source": [
    "Data set head, some points have NaN values."
   ]
  },
  {
   "cell_type": "code",
   "execution_count": 398,
   "metadata": {
    "scrolled": true
   },
   "outputs": [
    {
     "name": "stdout",
     "output_type": "stream",
     "text": [
      "<class 'pandas.core.frame.DataFrame'>\n",
      "RangeIndex: 344 entries, 0 to 343\n",
      "Data columns (total 8 columns):\n",
      " #   Column             Non-Null Count  Dtype  \n",
      "---  ------             --------------  -----  \n",
      " 0   species            344 non-null    object \n",
      " 1   island             344 non-null    object \n",
      " 2   bill_length_mm     342 non-null    float64\n",
      " 3   bill_depth_mm      342 non-null    float64\n",
      " 4   flipper_length_mm  342 non-null    float64\n",
      " 5   body_mass_g        342 non-null    float64\n",
      " 6   sex                333 non-null    object \n",
      " 7   year               344 non-null    int64  \n",
      "dtypes: float64(4), int64(1), object(3)\n",
      "memory usage: 21.6+ KB\n"
     ]
    }
   ],
   "source": [
    "dataset.info()"
   ]
  },
  {
   "cell_type": "markdown",
   "metadata": {},
   "source": [
    "There are 8 variables. Four of them are float-type (bill length, flipper length, bill depth, and body mass), 1 is integer-type (year), and 3 are string (species, island, sex). Species is the output variable. There are 344 indexed instances overall."
   ]
  },
  {
   "cell_type": "code",
   "execution_count": 399,
   "metadata": {},
   "outputs": [],
   "source": [
    "species = dataset[\"species\"].values\n"
   ]
  },
  {
   "cell_type": "code",
   "execution_count": 400,
   "metadata": {
    "scrolled": true
   },
   "outputs": [
    {
     "data": {
      "text/html": [
       "<div>\n",
       "<style scoped>\n",
       "    .dataframe tbody tr th:only-of-type {\n",
       "        vertical-align: middle;\n",
       "    }\n",
       "\n",
       "    .dataframe tbody tr th {\n",
       "        vertical-align: top;\n",
       "    }\n",
       "\n",
       "    .dataframe thead th {\n",
       "        text-align: right;\n",
       "    }\n",
       "</style>\n",
       "<table border=\"1\" class=\"dataframe\">\n",
       "  <thead>\n",
       "    <tr style=\"text-align: right;\">\n",
       "      <th></th>\n",
       "      <th>bill_length_mm</th>\n",
       "      <th>bill_depth_mm</th>\n",
       "      <th>flipper_length_mm</th>\n",
       "      <th>body_mass_g</th>\n",
       "      <th>year</th>\n",
       "    </tr>\n",
       "  </thead>\n",
       "  <tbody>\n",
       "    <tr>\n",
       "      <th>count</th>\n",
       "      <td>342.000000</td>\n",
       "      <td>342.000000</td>\n",
       "      <td>342.000000</td>\n",
       "      <td>342.000000</td>\n",
       "      <td>344.000000</td>\n",
       "    </tr>\n",
       "    <tr>\n",
       "      <th>mean</th>\n",
       "      <td>43.921930</td>\n",
       "      <td>17.151170</td>\n",
       "      <td>200.915205</td>\n",
       "      <td>4201.754386</td>\n",
       "      <td>2008.029070</td>\n",
       "    </tr>\n",
       "    <tr>\n",
       "      <th>std</th>\n",
       "      <td>5.459584</td>\n",
       "      <td>1.974793</td>\n",
       "      <td>14.061714</td>\n",
       "      <td>801.954536</td>\n",
       "      <td>0.818356</td>\n",
       "    </tr>\n",
       "    <tr>\n",
       "      <th>min</th>\n",
       "      <td>32.100000</td>\n",
       "      <td>13.100000</td>\n",
       "      <td>172.000000</td>\n",
       "      <td>2700.000000</td>\n",
       "      <td>2007.000000</td>\n",
       "    </tr>\n",
       "    <tr>\n",
       "      <th>25%</th>\n",
       "      <td>39.225000</td>\n",
       "      <td>15.600000</td>\n",
       "      <td>190.000000</td>\n",
       "      <td>3550.000000</td>\n",
       "      <td>2007.000000</td>\n",
       "    </tr>\n",
       "    <tr>\n",
       "      <th>50%</th>\n",
       "      <td>44.450000</td>\n",
       "      <td>17.300000</td>\n",
       "      <td>197.000000</td>\n",
       "      <td>4050.000000</td>\n",
       "      <td>2008.000000</td>\n",
       "    </tr>\n",
       "    <tr>\n",
       "      <th>75%</th>\n",
       "      <td>48.500000</td>\n",
       "      <td>18.700000</td>\n",
       "      <td>213.000000</td>\n",
       "      <td>4750.000000</td>\n",
       "      <td>2009.000000</td>\n",
       "    </tr>\n",
       "    <tr>\n",
       "      <th>max</th>\n",
       "      <td>59.600000</td>\n",
       "      <td>21.500000</td>\n",
       "      <td>231.000000</td>\n",
       "      <td>6300.000000</td>\n",
       "      <td>2009.000000</td>\n",
       "    </tr>\n",
       "  </tbody>\n",
       "</table>\n",
       "</div>"
      ],
      "text/plain": [
       "       bill_length_mm  bill_depth_mm  flipper_length_mm  body_mass_g  \\\n",
       "count      342.000000     342.000000         342.000000   342.000000   \n",
       "mean        43.921930      17.151170         200.915205  4201.754386   \n",
       "std          5.459584       1.974793          14.061714   801.954536   \n",
       "min         32.100000      13.100000         172.000000  2700.000000   \n",
       "25%         39.225000      15.600000         190.000000  3550.000000   \n",
       "50%         44.450000      17.300000         197.000000  4050.000000   \n",
       "75%         48.500000      18.700000         213.000000  4750.000000   \n",
       "max         59.600000      21.500000         231.000000  6300.000000   \n",
       "\n",
       "              year  \n",
       "count   344.000000  \n",
       "mean   2008.029070  \n",
       "std       0.818356  \n",
       "min    2007.000000  \n",
       "25%    2007.000000  \n",
       "50%    2008.000000  \n",
       "75%    2009.000000  \n",
       "max    2009.000000  "
      ]
     },
     "execution_count": 400,
     "metadata": {},
     "output_type": "execute_result"
    }
   ],
   "source": [
    "#Before cleaning summary statistics\n",
    "dataset.describe()"
   ]
  },
  {
   "cell_type": "code",
   "execution_count": 401,
   "metadata": {},
   "outputs": [
    {
     "data": {
      "text/html": [
       "<div>\n",
       "<style scoped>\n",
       "    .dataframe tbody tr th:only-of-type {\n",
       "        vertical-align: middle;\n",
       "    }\n",
       "\n",
       "    .dataframe tbody tr th {\n",
       "        vertical-align: top;\n",
       "    }\n",
       "\n",
       "    .dataframe thead th {\n",
       "        text-align: right;\n",
       "    }\n",
       "</style>\n",
       "<table border=\"1\" class=\"dataframe\">\n",
       "  <thead>\n",
       "    <tr style=\"text-align: right;\">\n",
       "      <th></th>\n",
       "      <th>bill_length_mm</th>\n",
       "      <th>bill_depth_mm</th>\n",
       "      <th>flipper_length_mm</th>\n",
       "      <th>body_mass_g</th>\n",
       "      <th>year</th>\n",
       "    </tr>\n",
       "  </thead>\n",
       "  <tbody>\n",
       "    <tr>\n",
       "      <th>count</th>\n",
       "      <td>333.000000</td>\n",
       "      <td>333.000000</td>\n",
       "      <td>333.000000</td>\n",
       "      <td>333.000000</td>\n",
       "      <td>333.000000</td>\n",
       "    </tr>\n",
       "    <tr>\n",
       "      <th>mean</th>\n",
       "      <td>43.992793</td>\n",
       "      <td>17.164865</td>\n",
       "      <td>200.966967</td>\n",
       "      <td>4207.057057</td>\n",
       "      <td>2008.042042</td>\n",
       "    </tr>\n",
       "    <tr>\n",
       "      <th>std</th>\n",
       "      <td>5.468668</td>\n",
       "      <td>1.969235</td>\n",
       "      <td>14.015765</td>\n",
       "      <td>805.215802</td>\n",
       "      <td>0.812944</td>\n",
       "    </tr>\n",
       "    <tr>\n",
       "      <th>min</th>\n",
       "      <td>32.100000</td>\n",
       "      <td>13.100000</td>\n",
       "      <td>172.000000</td>\n",
       "      <td>2700.000000</td>\n",
       "      <td>2007.000000</td>\n",
       "    </tr>\n",
       "    <tr>\n",
       "      <th>25%</th>\n",
       "      <td>39.500000</td>\n",
       "      <td>15.600000</td>\n",
       "      <td>190.000000</td>\n",
       "      <td>3550.000000</td>\n",
       "      <td>2007.000000</td>\n",
       "    </tr>\n",
       "    <tr>\n",
       "      <th>50%</th>\n",
       "      <td>44.500000</td>\n",
       "      <td>17.300000</td>\n",
       "      <td>197.000000</td>\n",
       "      <td>4050.000000</td>\n",
       "      <td>2008.000000</td>\n",
       "    </tr>\n",
       "    <tr>\n",
       "      <th>75%</th>\n",
       "      <td>48.600000</td>\n",
       "      <td>18.700000</td>\n",
       "      <td>213.000000</td>\n",
       "      <td>4775.000000</td>\n",
       "      <td>2009.000000</td>\n",
       "    </tr>\n",
       "    <tr>\n",
       "      <th>max</th>\n",
       "      <td>59.600000</td>\n",
       "      <td>21.500000</td>\n",
       "      <td>231.000000</td>\n",
       "      <td>6300.000000</td>\n",
       "      <td>2009.000000</td>\n",
       "    </tr>\n",
       "  </tbody>\n",
       "</table>\n",
       "</div>"
      ],
      "text/plain": [
       "       bill_length_mm  bill_depth_mm  flipper_length_mm  body_mass_g  \\\n",
       "count      333.000000     333.000000         333.000000   333.000000   \n",
       "mean        43.992793      17.164865         200.966967  4207.057057   \n",
       "std          5.468668       1.969235          14.015765   805.215802   \n",
       "min         32.100000      13.100000         172.000000  2700.000000   \n",
       "25%         39.500000      15.600000         190.000000  3550.000000   \n",
       "50%         44.500000      17.300000         197.000000  4050.000000   \n",
       "75%         48.600000      18.700000         213.000000  4775.000000   \n",
       "max         59.600000      21.500000         231.000000  6300.000000   \n",
       "\n",
       "              year  \n",
       "count   333.000000  \n",
       "mean   2008.042042  \n",
       "std       0.812944  \n",
       "min    2007.000000  \n",
       "25%    2007.000000  \n",
       "50%    2008.000000  \n",
       "75%    2009.000000  \n",
       "max    2009.000000  "
      ]
     },
     "execution_count": 401,
     "metadata": {},
     "output_type": "execute_result"
    }
   ],
   "source": [
    "#After cleaning, summary statistics\n",
    "dataset_clean = dataset.boxpl\n",
    "dataset_clean.describe()"
   ]
  },
  {
   "cell_type": "code",
   "execution_count": 402,
   "metadata": {
    "scrolled": false
   },
   "outputs": [
    {
     "data": {
      "image/png": "[encoded data removed]",
      "text/plain": [
       "<Figure size 720x720 with 6 Axes>"
      ]
     },
     "metadata": {
      "needs_background": "light"
     },
     "output_type": "display_data"
    }
   ],
   "source": [
    "%matplotlib inline  \n",
    "# Histograms of numerical type variables\n",
    "import matplotlib.pyplot as plt\n",
    "dataset_clean.hist(bins = 10, figsize = (10,10))\n",
    "plt.show()"
   ]
  },
  {
   "cell_type": "markdown",
   "metadata": {},
   "source": [
    "Body mass seems a little right-skewed, as does flipper length. The year data is roughly balanced. "
   ]
  },
  {
   "cell_type": "code",
   "execution_count": 403,
   "metadata": {},
   "outputs": [
    {
     "data": {
      "text/plain": [
       "<AxesSubplot:>"
      ]
     },
     "execution_count": 403,
     "metadata": {},
     "output_type": "execute_result"
    },
    {
     "data": {
      "image/png": "[encoded data removed]",
      "text/plain": [
       "<Figure size 432x288 with 1 Axes>"
      ]
     },
     "metadata": {
      "needs_background": "light"
     },
     "output_type": "display_data"
    }
   ],
   "source": [
    "dataset_clean.boxplot(column=['bill_length_mm']) #Bill length boxplot"
   ]
  },
  {
   "cell_type": "code",
   "execution_count": 404,
   "metadata": {},
   "outputs": [
    {
     "data": {
      "text/plain": [
       "<AxesSubplot:>"
      ]
     },
     "execution_count": 404,
     "metadata": {},
     "output_type": "execute_result"
    },
    {
     "data": {
      "image/png": "[encoded data removed]",
      "text/plain": [
       "<Figure size 432x288 with 1 Axes>"
      ]
     },
     "metadata": {
      "needs_background": "light"
     },
     "output_type": "display_data"
    }
   ],
   "source": [
    "dataset_clean.boxplot(column=['bill_depth_mm']) #Bill depth boxplot"
   ]
  },
  {
   "cell_type": "code",
   "execution_count": 405,
   "metadata": {},
   "outputs": [
    {
     "data": {
      "text/plain": [
       "<AxesSubplot:>"
      ]
     },
     "execution_count": 405,
     "metadata": {},
     "output_type": "execute_result"
    },
    {
     "data": {
      "image/png": "[encoded data removed]",
      "text/plain": [
       "<Figure size 432x288 with 1 Axes>"
      ]
     },
     "metadata": {
      "needs_background": "light"
     },
     "output_type": "display_data"
    }
   ],
   "source": [
    "dataset_clean.boxplot(column=['flipper_length_mm']) #Flipper length boxplot"
   ]
  },
  {
   "cell_type": "code",
   "execution_count": 406,
   "metadata": {
    "scrolled": true
   },
   "outputs": [
    {
     "data": {
      "text/plain": [
       "<AxesSubplot:>"
      ]
     },
     "execution_count": 406,
     "metadata": {},
     "output_type": "execute_result"
    },
    {
     "data": {
      "image/png": "[encoded data removed]",
      "text/plain": [
       "<Figure size 432x288 with 1 Axes>"
      ]
     },
     "metadata": {
      "needs_background": "light"
     },
     "output_type": "display_data"
    }
   ],
   "source": [
    "dataset_clean.boxplot(column=['body_mass_g']) #Body mass box plot"
   ]
  },
  {
   "cell_type": "code",
   "execution_count": 407,
   "metadata": {
    "scrolled": true
   },
   "outputs": [
    {
     "data": {
      "text/html": [
       "<div>\n",
       "<style scoped>\n",
       "    .dataframe tbody tr th:only-of-type {\n",
       "        vertical-align: middle;\n",
       "    }\n",
       "\n",
       "    .dataframe tbody tr th {\n",
       "        vertical-align: top;\n",
       "    }\n",
       "\n",
       "    .dataframe thead th {\n",
       "        text-align: right;\n",
       "    }\n",
       "</style>\n",
       "<table border=\"1\" class=\"dataframe\">\n",
       "  <thead>\n",
       "    <tr style=\"text-align: right;\">\n",
       "      <th></th>\n",
       "      <th>bill_length_mm</th>\n",
       "      <th>bill_depth_mm</th>\n",
       "      <th>flipper_length_mm</th>\n",
       "      <th>body_mass_g</th>\n",
       "      <th>year</th>\n",
       "    </tr>\n",
       "  </thead>\n",
       "  <tbody>\n",
       "    <tr>\n",
       "      <th>bill_length_mm</th>\n",
       "      <td>1.000000</td>\n",
       "      <td>-0.228626</td>\n",
       "      <td>0.653096</td>\n",
       "      <td>0.589451</td>\n",
       "      <td>0.032657</td>\n",
       "    </tr>\n",
       "    <tr>\n",
       "      <th>bill_depth_mm</th>\n",
       "      <td>-0.228626</td>\n",
       "      <td>1.000000</td>\n",
       "      <td>-0.577792</td>\n",
       "      <td>-0.472016</td>\n",
       "      <td>-0.048182</td>\n",
       "    </tr>\n",
       "    <tr>\n",
       "      <th>flipper_length_mm</th>\n",
       "      <td>0.653096</td>\n",
       "      <td>-0.577792</td>\n",
       "      <td>1.000000</td>\n",
       "      <td>0.872979</td>\n",
       "      <td>0.151068</td>\n",
       "    </tr>\n",
       "    <tr>\n",
       "      <th>body_mass_g</th>\n",
       "      <td>0.589451</td>\n",
       "      <td>-0.472016</td>\n",
       "      <td>0.872979</td>\n",
       "      <td>1.000000</td>\n",
       "      <td>0.021862</td>\n",
       "    </tr>\n",
       "    <tr>\n",
       "      <th>year</th>\n",
       "      <td>0.032657</td>\n",
       "      <td>-0.048182</td>\n",
       "      <td>0.151068</td>\n",
       "      <td>0.021862</td>\n",
       "      <td>1.000000</td>\n",
       "    </tr>\n",
       "  </tbody>\n",
       "</table>\n",
       "</div>"
      ],
      "text/plain": [
       "                   bill_length_mm  bill_depth_mm  flipper_length_mm  \\\n",
       "bill_length_mm           1.000000      -0.228626           0.653096   \n",
       "bill_depth_mm           -0.228626       1.000000          -0.577792   \n",
       "flipper_length_mm        0.653096      -0.577792           1.000000   \n",
       "body_mass_g              0.589451      -0.472016           0.872979   \n",
       "year                     0.032657      -0.048182           0.151068   \n",
       "\n",
       "                   body_mass_g      year  \n",
       "bill_length_mm        0.589451  0.032657  \n",
       "bill_depth_mm        -0.472016 -0.048182  \n",
       "flipper_length_mm     0.872979  0.151068  \n",
       "body_mass_g           1.000000  0.021862  \n",
       "year                  0.021862  1.000000  "
      ]
     },
     "execution_count": 407,
     "metadata": {},
     "output_type": "execute_result"
    }
   ],
   "source": [
    "corr_matrix = dataset_clean.corr() #correlation matrix\n",
    "corr_matrix\n"
   ]
  },
  {
   "cell_type": "code",
   "execution_count": 477,
   "metadata": {
    "scrolled": false
   },
   "outputs": [
    {
     "data": {
      "image/png": "[encoded data removed]",
      "text/plain": [
       "<Figure size 1440x1440 with 25 Axes>"
      ]
     },
     "metadata": {
      "needs_background": "light"
     },
     "output_type": "display_data"
    }
   ],
   "source": [
    "from pandas.plotting import scatter_matrix #Scatter matrix\n",
    "scatter_matrix(dataset_clean, figsize=(20, 20))\n",
    "plt.savefig('Scattermatrix.png')"
   ]
  },
  {
   "cell_type": "markdown",
   "metadata": {},
   "source": [
    "There seems to be a positive correlation between body mass and flipper length and some amount between body mass and bill length. Some correlations seem to be separated into groups with individual correlations that generally appear positve within that group. The year variable does not appear to have much significance."
   ]
  },
  {
   "cell_type": "code",
   "execution_count": 409,
   "metadata": {
    "scrolled": true
   },
   "outputs": [
    {
     "data": {
      "image/png": "[encoded data removed]",
      "text/plain": [
       "<Figure size 432x288 with 1 Axes>"
      ]
     },
     "metadata": {
      "needs_background": "light"
     },
     "output_type": "display_data"
    }
   ],
   "source": [
    "#Target variable species histogram\n",
    "sns.histplot(data = dataset_clean, x = 'species')\n",
    "plt.savefig('specieshist.png')"
   ]
  },
  {
   "cell_type": "markdown",
   "metadata": {},
   "source": [
    "The dataset is unbalanced. In particular there are significantly less Chinstrap penguins than other species.  "
   ]
  },
  {
   "cell_type": "code",
   "execution_count": 410,
   "metadata": {
    "scrolled": false
   },
   "outputs": [
    {
     "data": {
      "image/png": "[encoded data removed]",
      "text/plain": [
       "<Figure size 432x288 with 1 Axes>"
      ]
     },
     "metadata": {
      "needs_background": "light"
     },
     "output_type": "display_data"
    }
   ],
   "source": [
    "#Island historam\n",
    "sns.histplot(data = dataset_clean, x = 'island')\n",
    "plt.savefig('islandhist.png')"
   ]
  },
  {
   "cell_type": "code",
   "execution_count": 411,
   "metadata": {},
   "outputs": [
    {
     "data": {
      "image/png": "[encoded data removed]",
      "text/plain": [
       "<Figure size 432x288 with 1 Axes>"
      ]
     },
     "metadata": {
      "needs_background": "light"
     },
     "output_type": "display_data"
    }
   ],
   "source": [
    "#sex histogram\n",
    "sns.histplot(data = dataset_clean, x = 'sex')\n",
    "plt.savefig('sexhist.png')"
   ]
  },
  {
   "cell_type": "code",
   "execution_count": 412,
   "metadata": {},
   "outputs": [
    {
     "data": {
      "text/html": [
       "<div>\n",
       "<style scoped>\n",
       "    .dataframe tbody tr th:only-of-type {\n",
       "        vertical-align: middle;\n",
       "    }\n",
       "\n",
       "    .dataframe tbody tr th {\n",
       "        vertical-align: top;\n",
       "    }\n",
       "\n",
       "    .dataframe thead th {\n",
       "        text-align: right;\n",
       "    }\n",
       "</style>\n",
       "<table border=\"1\" class=\"dataframe\">\n",
       "  <thead>\n",
       "    <tr style=\"text-align: right;\">\n",
       "      <th></th>\n",
       "      <th>species</th>\n",
       "      <th>island</th>\n",
       "      <th>bill_length_mm</th>\n",
       "      <th>bill_depth_mm</th>\n",
       "      <th>flipper_length_mm</th>\n",
       "      <th>body_mass_g</th>\n",
       "      <th>sex</th>\n",
       "      <th>year</th>\n",
       "    </tr>\n",
       "  </thead>\n",
       "  <tbody>\n",
       "    <tr>\n",
       "      <th>0</th>\n",
       "      <td>Adelie</td>\n",
       "      <td>Torgersen</td>\n",
       "      <td>39.1</td>\n",
       "      <td>18.7</td>\n",
       "      <td>181.0</td>\n",
       "      <td>3750.0</td>\n",
       "      <td>male</td>\n",
       "      <td>2007</td>\n",
       "    </tr>\n",
       "    <tr>\n",
       "      <th>1</th>\n",
       "      <td>Adelie</td>\n",
       "      <td>Torgersen</td>\n",
       "      <td>39.5</td>\n",
       "      <td>17.4</td>\n",
       "      <td>186.0</td>\n",
       "      <td>3800.0</td>\n",
       "      <td>female</td>\n",
       "      <td>2007</td>\n",
       "    </tr>\n",
       "    <tr>\n",
       "      <th>2</th>\n",
       "      <td>Adelie</td>\n",
       "      <td>Torgersen</td>\n",
       "      <td>40.3</td>\n",
       "      <td>18.0</td>\n",
       "      <td>195.0</td>\n",
       "      <td>3250.0</td>\n",
       "      <td>female</td>\n",
       "      <td>2007</td>\n",
       "    </tr>\n",
       "    <tr>\n",
       "      <th>4</th>\n",
       "      <td>Adelie</td>\n",
       "      <td>Torgersen</td>\n",
       "      <td>36.7</td>\n",
       "      <td>19.3</td>\n",
       "      <td>193.0</td>\n",
       "      <td>3450.0</td>\n",
       "      <td>female</td>\n",
       "      <td>2007</td>\n",
       "    </tr>\n",
       "    <tr>\n",
       "      <th>5</th>\n",
       "      <td>Adelie</td>\n",
       "      <td>Torgersen</td>\n",
       "      <td>39.3</td>\n",
       "      <td>20.6</td>\n",
       "      <td>190.0</td>\n",
       "      <td>3650.0</td>\n",
       "      <td>male</td>\n",
       "      <td>2007</td>\n",
       "    </tr>\n",
       "    <tr>\n",
       "      <th>...</th>\n",
       "      <td>...</td>\n",
       "      <td>...</td>\n",
       "      <td>...</td>\n",
       "      <td>...</td>\n",
       "      <td>...</td>\n",
       "      <td>...</td>\n",
       "      <td>...</td>\n",
       "      <td>...</td>\n",
       "    </tr>\n",
       "    <tr>\n",
       "      <th>339</th>\n",
       "      <td>Chinstrap</td>\n",
       "      <td>Dream</td>\n",
       "      <td>55.8</td>\n",
       "      <td>19.8</td>\n",
       "      <td>207.0</td>\n",
       "      <td>4000.0</td>\n",
       "      <td>male</td>\n",
       "      <td>2009</td>\n",
       "    </tr>\n",
       "    <tr>\n",
       "      <th>340</th>\n",
       "      <td>Chinstrap</td>\n",
       "      <td>Dream</td>\n",
       "      <td>43.5</td>\n",
       "      <td>18.1</td>\n",
       "      <td>202.0</td>\n",
       "      <td>3400.0</td>\n",
       "      <td>female</td>\n",
       "      <td>2009</td>\n",
       "    </tr>\n",
       "    <tr>\n",
       "      <th>341</th>\n",
       "      <td>Chinstrap</td>\n",
       "      <td>Dream</td>\n",
       "      <td>49.6</td>\n",
       "      <td>18.2</td>\n",
       "      <td>193.0</td>\n",
       "      <td>3775.0</td>\n",
       "      <td>male</td>\n",
       "      <td>2009</td>\n",
       "    </tr>\n",
       "    <tr>\n",
       "      <th>342</th>\n",
       "      <td>Chinstrap</td>\n",
       "      <td>Dream</td>\n",
       "      <td>50.8</td>\n",
       "      <td>19.0</td>\n",
       "      <td>210.0</td>\n",
       "      <td>4100.0</td>\n",
       "      <td>male</td>\n",
       "      <td>2009</td>\n",
       "    </tr>\n",
       "    <tr>\n",
       "      <th>343</th>\n",
       "      <td>Chinstrap</td>\n",
       "      <td>Dream</td>\n",
       "      <td>50.2</td>\n",
       "      <td>18.7</td>\n",
       "      <td>198.0</td>\n",
       "      <td>3775.0</td>\n",
       "      <td>female</td>\n",
       "      <td>2009</td>\n",
       "    </tr>\n",
       "  </tbody>\n",
       "</table>\n",
       "<p>333 rows × 8 columns</p>\n",
       "</div>"
      ],
      "text/plain": [
       "       species     island  bill_length_mm  bill_depth_mm  flipper_length_mm  \\\n",
       "0       Adelie  Torgersen            39.1           18.7              181.0   \n",
       "1       Adelie  Torgersen            39.5           17.4              186.0   \n",
       "2       Adelie  Torgersen            40.3           18.0              195.0   \n",
       "4       Adelie  Torgersen            36.7           19.3              193.0   \n",
       "5       Adelie  Torgersen            39.3           20.6              190.0   \n",
       "..         ...        ...             ...            ...                ...   \n",
       "339  Chinstrap      Dream            55.8           19.8              207.0   \n",
       "340  Chinstrap      Dream            43.5           18.1              202.0   \n",
       "341  Chinstrap      Dream            49.6           18.2              193.0   \n",
       "342  Chinstrap      Dream            50.8           19.0              210.0   \n",
       "343  Chinstrap      Dream            50.2           18.7              198.0   \n",
       "\n",
       "     body_mass_g     sex  year  \n",
       "0         3750.0    male  2007  \n",
       "1         3800.0  female  2007  \n",
       "2         3250.0  female  2007  \n",
       "4         3450.0  female  2007  \n",
       "5         3650.0    male  2007  \n",
       "..           ...     ...   ...  \n",
       "339       4000.0    male  2009  \n",
       "340       3400.0  female  2009  \n",
       "341       3775.0    male  2009  \n",
       "342       4100.0    male  2009  \n",
       "343       3775.0  female  2009  \n",
       "\n",
       "[333 rows x 8 columns]"
      ]
     },
     "execution_count": 412,
     "metadata": {},
     "output_type": "execute_result"
    }
   ],
   "source": [
    "dataset_clean"
   ]
  },
  {
   "cell_type": "code",
   "execution_count": 413,
   "metadata": {},
   "outputs": [
    {
     "data": {
      "text/plain": [
       "array(['Adelie', 'Torgersen', 39.1, 18.7, 181.0, 3750.0, 'male', 2007],\n",
       "      dtype=object)"
      ]
     },
     "execution_count": 413,
     "metadata": {},
     "output_type": "execute_result"
    }
   ],
   "source": [
    "data_array = np.array(dataset_clean.iloc[:,:].values) #Make dataset into an array\n",
    "data_array[0] #Example\n"
   ]
  },
  {
   "cell_type": "code",
   "execution_count": 414,
   "metadata": {},
   "outputs": [
    {
     "data": {
      "text/plain": [
       "array(['Adelie', 'Adelie', 'Adelie', 'Adelie', 'Adelie', 'Adelie',\n",
       "       'Adelie', 'Adelie', 'Adelie', 'Adelie', 'Adelie', 'Adelie',\n",
       "       'Adelie', 'Adelie', 'Adelie', 'Adelie', 'Adelie', 'Adelie',\n",
       "       'Adelie', 'Adelie', 'Adelie', 'Adelie', 'Adelie', 'Adelie',\n",
       "       'Adelie', 'Adelie', 'Adelie', 'Adelie', 'Adelie', 'Adelie',\n",
       "       'Adelie', 'Adelie', 'Adelie', 'Adelie', 'Adelie', 'Adelie',\n",
       "       'Adelie', 'Adelie', 'Adelie', 'Adelie', 'Adelie', 'Adelie',\n",
       "       'Adelie', 'Adelie', 'Adelie', 'Adelie', 'Adelie', 'Adelie',\n",
       "       'Adelie', 'Adelie', 'Adelie', 'Adelie', 'Adelie', 'Adelie',\n",
       "       'Adelie', 'Adelie', 'Adelie', 'Adelie', 'Adelie', 'Adelie',\n",
       "       'Adelie', 'Adelie', 'Adelie', 'Adelie', 'Adelie', 'Adelie',\n",
       "       'Adelie', 'Adelie', 'Adelie', 'Adelie', 'Adelie', 'Adelie',\n",
       "       'Adelie', 'Adelie', 'Adelie', 'Adelie', 'Adelie', 'Adelie',\n",
       "       'Adelie', 'Adelie', 'Adelie', 'Adelie', 'Adelie', 'Adelie',\n",
       "       'Adelie', 'Adelie', 'Adelie', 'Adelie', 'Adelie', 'Adelie',\n",
       "       'Adelie', 'Adelie', 'Adelie', 'Adelie', 'Adelie', 'Adelie',\n",
       "       'Adelie', 'Adelie', 'Adelie', 'Adelie', 'Adelie', 'Adelie',\n",
       "       'Adelie', 'Adelie', 'Adelie', 'Adelie', 'Adelie', 'Adelie',\n",
       "       'Adelie', 'Adelie', 'Adelie', 'Adelie', 'Adelie', 'Adelie',\n",
       "       'Adelie', 'Adelie', 'Adelie', 'Adelie', 'Adelie', 'Adelie',\n",
       "       'Adelie', 'Adelie', 'Adelie', 'Adelie', 'Adelie', 'Adelie',\n",
       "       'Adelie', 'Adelie', 'Adelie', 'Adelie', 'Adelie', 'Adelie',\n",
       "       'Adelie', 'Adelie', 'Adelie', 'Adelie', 'Adelie', 'Adelie',\n",
       "       'Adelie', 'Adelie', 'Adelie', 'Adelie', 'Adelie', 'Adelie',\n",
       "       'Adelie', 'Adelie', 'Gentoo', 'Gentoo', 'Gentoo', 'Gentoo',\n",
       "       'Gentoo', 'Gentoo', 'Gentoo', 'Gentoo', 'Gentoo', 'Gentoo',\n",
       "       'Gentoo', 'Gentoo', 'Gentoo', 'Gentoo', 'Gentoo', 'Gentoo',\n",
       "       'Gentoo', 'Gentoo', 'Gentoo', 'Gentoo', 'Gentoo', 'Gentoo',\n",
       "       'Gentoo', 'Gentoo', 'Gentoo', 'Gentoo', 'Gentoo', 'Gentoo',\n",
       "       'Gentoo', 'Gentoo', 'Gentoo', 'Gentoo', 'Gentoo', 'Gentoo',\n",
       "       'Gentoo', 'Gentoo', 'Gentoo', 'Gentoo', 'Gentoo', 'Gentoo',\n",
       "       'Gentoo', 'Gentoo', 'Gentoo', 'Gentoo', 'Gentoo', 'Gentoo',\n",
       "       'Gentoo', 'Gentoo', 'Gentoo', 'Gentoo', 'Gentoo', 'Gentoo',\n",
       "       'Gentoo', 'Gentoo', 'Gentoo', 'Gentoo', 'Gentoo', 'Gentoo',\n",
       "       'Gentoo', 'Gentoo', 'Gentoo', 'Gentoo', 'Gentoo', 'Gentoo',\n",
       "       'Gentoo', 'Gentoo', 'Gentoo', 'Gentoo', 'Gentoo', 'Gentoo',\n",
       "       'Gentoo', 'Gentoo', 'Gentoo', 'Gentoo', 'Gentoo', 'Gentoo',\n",
       "       'Gentoo', 'Gentoo', 'Gentoo', 'Gentoo', 'Gentoo', 'Gentoo',\n",
       "       'Gentoo', 'Gentoo', 'Gentoo', 'Gentoo', 'Gentoo', 'Gentoo',\n",
       "       'Gentoo', 'Gentoo', 'Gentoo', 'Gentoo', 'Gentoo', 'Gentoo',\n",
       "       'Gentoo', 'Gentoo', 'Gentoo', 'Gentoo', 'Gentoo', 'Gentoo',\n",
       "       'Gentoo', 'Gentoo', 'Gentoo', 'Gentoo', 'Gentoo', 'Gentoo',\n",
       "       'Gentoo', 'Gentoo', 'Gentoo', 'Gentoo', 'Gentoo', 'Gentoo',\n",
       "       'Gentoo', 'Gentoo', 'Gentoo', 'Gentoo', 'Gentoo', 'Gentoo',\n",
       "       'Gentoo', 'Chinstrap', 'Chinstrap', 'Chinstrap', 'Chinstrap',\n",
       "       'Chinstrap', 'Chinstrap', 'Chinstrap', 'Chinstrap', 'Chinstrap',\n",
       "       'Chinstrap', 'Chinstrap', 'Chinstrap', 'Chinstrap', 'Chinstrap',\n",
       "       'Chinstrap', 'Chinstrap', 'Chinstrap', 'Chinstrap', 'Chinstrap',\n",
       "       'Chinstrap', 'Chinstrap', 'Chinstrap', 'Chinstrap', 'Chinstrap',\n",
       "       'Chinstrap', 'Chinstrap', 'Chinstrap', 'Chinstrap', 'Chinstrap',\n",
       "       'Chinstrap', 'Chinstrap', 'Chinstrap', 'Chinstrap', 'Chinstrap',\n",
       "       'Chinstrap', 'Chinstrap', 'Chinstrap', 'Chinstrap', 'Chinstrap',\n",
       "       'Chinstrap', 'Chinstrap', 'Chinstrap', 'Chinstrap', 'Chinstrap',\n",
       "       'Chinstrap', 'Chinstrap', 'Chinstrap', 'Chinstrap', 'Chinstrap',\n",
       "       'Chinstrap', 'Chinstrap', 'Chinstrap', 'Chinstrap', 'Chinstrap',\n",
       "       'Chinstrap', 'Chinstrap', 'Chinstrap', 'Chinstrap', 'Chinstrap',\n",
       "       'Chinstrap', 'Chinstrap', 'Chinstrap', 'Chinstrap', 'Chinstrap',\n",
       "       'Chinstrap', 'Chinstrap', 'Chinstrap', 'Chinstrap'], dtype=object)"
      ]
     },
     "execution_count": 414,
     "metadata": {},
     "output_type": "execute_result"
    }
   ],
   "source": [
    "dataset_clean.iloc[:,0].values #Target variable list (ordered)\n"
   ]
  },
  {
   "cell_type": "code",
   "execution_count": 415,
   "metadata": {},
   "outputs": [
    {
     "data": {
      "text/plain": [
       "array([['Adelie', 'Torgersen', 39.1, ..., 3750.0, 'male', 2007],\n",
       "       ['Adelie', 'Torgersen', 39.5, ..., 3800.0, 'female', 2007],\n",
       "       ['Adelie', 'Torgersen', 40.3, ..., 3250.0, 'female', 2007],\n",
       "       ...,\n",
       "       ['Chinstrap', 'Dream', 49.6, ..., 3775.0, 'male', 2009],\n",
       "       ['Chinstrap', 'Dream', 50.8, ..., 4100.0, 'male', 2009],\n",
       "       ['Chinstrap', 'Dream', 50.2, ..., 3775.0, 'female', 2009]],\n",
       "      dtype=object)"
      ]
     },
     "execution_count": 415,
     "metadata": {},
     "output_type": "execute_result"
    }
   ],
   "source": [
    "data_array #Total initial array"
   ]
  },
  {
   "cell_type": "code",
   "execution_count": 416,
   "metadata": {
    "scrolled": false
   },
   "outputs": [],
   "source": [
    "rd.seed(62) #Creates random array for randominzing dataset rows for cross validation\n",
    "C = 0\n",
    "rand_rows = np.zeros((np.shape(dataset_clean)[0]))\n",
    "while(C < np.shape(dataset_clean)[0]-1):\n",
    "    randint = rd.randint(0, np.shape(dataset_clean)[0]-1)\n",
    "    #print(randint)\n",
    "    if (randint not in rand_rows):\n",
    "        rand_rows[C] = randint\n",
    "        C+=1"
   ]
  },
  {
   "cell_type": "code",
   "execution_count": 417,
   "metadata": {},
   "outputs": [],
   "source": [
    "rand_rows = np.array(rand_rows, dtype=int) #makes iteger type"
   ]
  },
  {
   "cell_type": "code",
   "execution_count": 418,
   "metadata": {},
   "outputs": [],
   "source": [
    "rand_data = data_array[rand_rows] #randomizes data"
   ]
  },
  {
   "cell_type": "code",
   "execution_count": 419,
   "metadata": {},
   "outputs": [],
   "source": [
    "rand_data_num = np.array(rand_data) #intializes array which will have string replaced by numbers"
   ]
  },
  {
   "cell_type": "code",
   "execution_count": 420,
   "metadata": {},
   "outputs": [
    {
     "data": {
      "text/plain": [
       "array([['Chinstrap', 'Dream', 52.8, ..., 4550.0, 'male', 2008],\n",
       "       ['Adelie', 'Dream', 36.2, ..., 3300.0, 'female', 2008],\n",
       "       ['Adelie', 'Dream', 37.6, ..., 3300.0, 'female', 2007],\n",
       "       ...,\n",
       "       ['Adelie', 'Biscoe', 40.1, ..., 4300.0, 'male', 2008],\n",
       "       ['Chinstrap', 'Dream', 45.4, ..., 3525.0, 'female', 2007],\n",
       "       ['Adelie', 'Torgersen', 39.1, ..., 3750.0, 'male', 2007]],\n",
       "      dtype=object)"
      ]
     },
     "execution_count": 420,
     "metadata": {},
     "output_type": "execute_result"
    }
   ],
   "source": [
    "rand_data #Now random"
   ]
  },
  {
   "cell_type": "code",
   "execution_count": 421,
   "metadata": {},
   "outputs": [],
   "source": [
    "rowlen = np.shape(rand_data)[0]\n",
    "#There are 3 variables that are string-type, want to make integer, replaces strings with numbers\n",
    "for i in range(rowlen):\n",
    "    #Replace species names: 'Adelie' with 0, \"Gentoo\" with 1, \"Chinstrap\" with 2\n",
    "    if(rand_data[i, 0] == 'Adelie'):\n",
    "        rand_data_num[i, 0] = 0\n",
    "    elif(rand_data[i, 0] == 'Gentoo'):\n",
    "        rand_data_num[i, 0] = 1\n",
    "    else:\n",
    "        rand_data_num[i, 0] = 2\n",
    "    \n",
    "    #Replace island names: 'Torgersen' with 0, \"Biscoe\" with 1, \"Dream\" with 2\n",
    "    if(rand_data[i, 1] == 'Torgersen'):\n",
    "        rand_data_num[i, 1] = 0\n",
    "    elif(rand_data[i, 1] == 'Biscoe'):\n",
    "        rand_data_num[i, 1] = 1\n",
    "    else:\n",
    "        rand_data_num[i, 1] = 2\n",
    "        \n",
    "    #Replace sex: 'male' with 0, 'female' with 1 \n",
    "    if(rand_data[i, 6] == 'male'):\n",
    "        rand_data_num[i, 6] = 0\n",
    "    else: rand_data_num[i, 6] = 1"
   ]
  },
  {
   "cell_type": "code",
   "execution_count": 422,
   "metadata": {},
   "outputs": [],
   "source": [
    "peng_y = rand_data_num[:, 0] #Output Y, penguin species\n",
    "feat_x = rand_data_num[:, 1:] #Features X\n"
   ]
  },
  {
   "cell_type": "code",
   "execution_count": 423,
   "metadata": {},
   "outputs": [
    {
     "data": {
      "text/plain": [
       "(333,)"
      ]
     },
     "execution_count": 423,
     "metadata": {},
     "output_type": "execute_result"
    }
   ],
   "source": [
    "np.shape(peng_y) #Number os data points"
   ]
  },
  {
   "cell_type": "code",
   "execution_count": 424,
   "metadata": {},
   "outputs": [],
   "source": [
    "#Validation set for cross validation, makes everything float for consistency\n",
    "peng_y_train = np.array(peng_y[:167], dtype=float)\n",
    "peng_y_test = np.array(peng_y[167:], dtype=float)\n",
    "feat_x_train = np.array(feat_x[:167, :], dtype=float)\n",
    "feat_x_test = np.array(feat_x[167:, :], dtype=float)"
   ]
  },
  {
   "cell_type": "code",
   "execution_count": null,
   "metadata": {},
   "outputs": [],
   "source": []
  },
  {
   "cell_type": "markdown",
   "metadata": {},
   "source": [
    "MODEL TESTING"
   ]
  },
  {
   "cell_type": "markdown",
   "metadata": {},
   "source": [
    "KNN Nearest Neighbors"
   ]
  },
  {
   "cell_type": "code",
   "execution_count": 425,
   "metadata": {},
   "outputs": [
    {
     "data": {
      "text/plain": [
       "(0.7328052484302484,\n",
       " 0.8205226703917118,\n",
       " (0.7964071856287425,),\n",
       " (0.736413180602513,),\n",
       " array([[59,  5,  2],\n",
       "        [ 3, 61,  0],\n",
       "        [21,  3, 13]]))"
      ]
     },
     "execution_count": 425,
     "metadata": {},
     "output_type": "execute_result"
    }
   ],
   "source": [
    "#KNN training k = 7\n",
    "knn_7 = KNeighborsClassifier(n_neighbors = 7)\n",
    "knn_7.fit(feat_x_train, peng_y_train)\n",
    "peng_pred_KNN_7_train = knn_7.predict(feat_x_train)\n",
    "f1_KNN_7_train=f1_score(peng_y_train, peng_pred_KNN_7_train, average = 'macro'),\n",
    "accKNN_7_train=accuracy_score(peng_y_train, peng_pred_KNN_7_train),\n",
    "recall_KNN_7_train = recall_score(peng_y_train, peng_pred_KNN_7_train, average='macro')\n",
    "precKNN_7_train = precision_score(peng_y_train, peng_pred_KNN_7_train, average='macro')\n",
    "comKNN_7_train = confusion_matrix(peng_y_train, peng_pred_KNN_7_train)\n",
    "recall_KNN_7_train, precKNN_7_train, accKNN_7_train, f1_KNN_7_train,  comKNN_7_train"
   ]
  },
  {
   "cell_type": "code",
   "execution_count": 426,
   "metadata": {},
   "outputs": [],
   "source": [
    "#KNN test k=7\n",
    "peng_pred_KNN_7_test = knn_7.predict(feat_x_test)\n",
    "f1_KNN_7_test=f1_score(peng_y_test, peng_pred_KNN_7_test, average = 'macro'),\n",
    "accKNN_7_test=accuracy_score(peng_y_test, peng_pred_KNN_7_test),\n",
    "recall_KNN_7_test = recall_score(peng_y_test, peng_pred_KNN_7_test, average='macro')\n",
    "precKNN_7_test = precision_score(peng_y_test, peng_pred_KNN_7_test, average='macro')\n",
    "comKNN_7_test = confusion_matrix(peng_y_test, peng_pred_KNN_7_test)"
   ]
  },
  {
   "cell_type": "code",
   "execution_count": 427,
   "metadata": {
    "scrolled": true
   },
   "outputs": [
    {
     "data": {
      "text/plain": [
       "((0.7085790335790336,),\n",
       " (0.7891566265060241,),\n",
       " array([[71,  4,  5],\n",
       "        [ 4, 51,  0],\n",
       "        [21,  1,  9]]),\n",
       " 0.7643849206349206,\n",
       " 0.7016984359726295)"
      ]
     },
     "execution_count": 427,
     "metadata": {},
     "output_type": "execute_result"
    }
   ],
   "source": [
    "#Test data perfomrance KNN k =7\n",
    "recall_KNN_7_test, precKNN_7_test, accKNN_7_test, f1_KNN_7_test,  comKNN_7_test"
   ]
  },
  {
   "cell_type": "code",
   "execution_count": null,
   "metadata": {},
   "outputs": [],
   "source": []
  },
  {
   "cell_type": "code",
   "execution_count": 461,
   "metadata": {},
   "outputs": [
    {
     "data": {
      "text/plain": [
       "((0.8064580228514654,),\n",
       " (0.8383233532934131,),\n",
       " array([[59,  3,  4],\n",
       "        [ 3, 61,  0],\n",
       "        [15,  2, 20]]),\n",
       " 0.8412698412698413,\n",
       " 0.7958683114933116)"
      ]
     },
     "execution_count": 461,
     "metadata": {},
     "output_type": "execute_result"
    }
   ],
   "source": [
    "#KNN training k = 5\n",
    "knn_5 = KNeighborsClassifier(n_neighbors = 5)\n",
    "knn_5.fit(feat_x_train, peng_y_train)\n",
    "peng_pred_KNN_5_train = knn_5.predict(feat_x_train)\n",
    "f1_KNN_5_train=f1_score(peng_y_train, peng_pred_KNN_5_train, average = 'macro'),\n",
    "accKNN_5_train=accuracy_score(peng_y_train, peng_pred_KNN_5_train),\n",
    "recall_KNN_5_train = recall_score(peng_y_train, peng_pred_KNN_5_train, average='macro')\n",
    "precKNN_5_train = precision_score(peng_y_train, peng_pred_KNN_5_train, average='macro')\n",
    "comKNN_5_train = confusion_matrix(peng_y_train, peng_pred_KNN_5_train)\n",
    "f1_KNN_5_train, accKNN_5_train, comKNN_5_train, precKNN_5_train, recall_KNN_5_train"
   ]
  },
  {
   "cell_type": "code",
   "execution_count": 429,
   "metadata": {},
   "outputs": [],
   "source": [
    "#KNN test k=5\n",
    "peng_pred_KNN_5_test = knn_5.predict(feat_x_test)\n",
    "f1_KNN_5_test=f1_score(peng_y_test, peng_pred_KNN_5_test, average = 'macro'),\n",
    "accKNN_5_test=accuracy_score(peng_y_test, peng_pred_KNN_5_test),\n",
    "recall_KNN_5_test = recall_score(peng_y_test, peng_pred_KNN_5_test, average='macro')\n",
    "precKNN_5_test = precision_score(peng_y_test, peng_pred_KNN_5_test, average='macro')\n",
    "comKNN_5_test = confusion_matrix(peng_y_test, peng_pred_KNN_5_test)"
   ]
  },
  {
   "cell_type": "code",
   "execution_count": 462,
   "metadata": {},
   "outputs": [
    {
     "data": {
      "text/plain": [
       "((0.7483261341359494,),\n",
       " (0.8012048192771084,),\n",
       " array([[70,  3,  7],\n",
       "        [ 5, 50,  0],\n",
       "        [18,  0, 13]]),\n",
       " 0.7820281328193683,\n",
       " 0.7344819159335289)"
      ]
     },
     "execution_count": 462,
     "metadata": {},
     "output_type": "execute_result"
    }
   ],
   "source": [
    "f1_KNN_5_test, accKNN_5_test, comKNN_5_test, precKNN_5_test, recall_KNN_5_test"
   ]
  },
  {
   "cell_type": "code",
   "execution_count": null,
   "metadata": {},
   "outputs": [],
   "source": []
  },
  {
   "cell_type": "code",
   "execution_count": null,
   "metadata": {},
   "outputs": [],
   "source": []
  },
  {
   "cell_type": "markdown",
   "metadata": {},
   "source": [
    "Logistic Regression"
   ]
  },
  {
   "cell_type": "code",
   "execution_count": 431,
   "metadata": {},
   "outputs": [
    {
     "name": "stdout",
     "output_type": "stream",
     "text": [
      "LogisticRegression(penalty='none', solver='newton-cg')\n",
      "classes:  [0. 1. 2.]\n",
      "coefficients:  [[-5.77382822e+00 -4.57455085e+00  6.77887841e+00 -2.08480727e-01\n",
      "   1.05516832e-02 -3.62086837e-01  4.77272079e-02]\n",
      " [-2.45379600e-01 -6.66297078e-01 -5.03609123e+00  5.71756506e-01\n",
      "   2.04574492e-02  9.21531063e-01 -4.16050817e-02]\n",
      " [ 6.01920782e+00  5.24084791e+00 -1.74278719e+00 -3.63275859e-01\n",
      "  -3.10106070e-02 -5.59444227e-01 -6.12298722e-03]]\n",
      "intercept : [ 0.00229216  0.00045011 -0.00274228]\n"
     ]
    }
   ],
   "source": [
    "#With no feature selection\n",
    "log_reg = skl_lm.LogisticRegression(solver = 'newton-cg', penalty = 'none')#, max_iter = 1000)\n",
    "log_reg.fit(feat_x_train, peng_y_train)\n",
    "print(log_reg)\n",
    "print('classes: ',log_reg.classes_)\n",
    "print('coefficients: ',log_reg.coef_)\n",
    "print('intercept :', log_reg.intercept_)"
   ]
  },
  {
   "cell_type": "code",
   "execution_count": 464,
   "metadata": {},
   "outputs": [
    {
     "data": {
      "text/plain": [
       "((1.0,),\n",
       " (1.0,),\n",
       " array([[66,  0,  0],\n",
       "        [ 0, 64,  0],\n",
       "        [ 0,  0, 37]]),\n",
       " 1.0,\n",
       " 1.0)"
      ]
     },
     "execution_count": 464,
     "metadata": {},
     "output_type": "execute_result"
    }
   ],
   "source": [
    "#LogReg training\n",
    "peng_pred_logreg_train = log_reg.predict(feat_x_train)\n",
    "f1_logreg_train=f1_score(peng_y_train, peng_pred_logreg_train, average = 'macro'),\n",
    "acc_logreg_train=accuracy_score(peng_y_train, peng_pred_logreg_train),\n",
    "recall_logreg_train = recall_score(peng_y_train, peng_pred_logreg_train, average='macro')\n",
    "prec_logreg_train = precision_score(peng_y_train, peng_pred_logreg_train, average='macro')\n",
    "com_logreg_train = confusion_matrix(peng_y_train, peng_pred_logreg_train)\n",
    "f1_logreg_train, acc_logreg_train, com_logreg_train, prec_logreg_train, recall_logreg_train"
   ]
  },
  {
   "cell_type": "code",
   "execution_count": 465,
   "metadata": {
    "scrolled": false
   },
   "outputs": [
    {
     "data": {
      "text/plain": [
       "((1.0,),\n",
       " (1.0,),\n",
       " array([[80,  0,  0],\n",
       "        [ 0, 55,  0],\n",
       "        [ 0,  0, 31]]),\n",
       " 1.0,\n",
       " 1.0)"
      ]
     },
     "execution_count": 465,
     "metadata": {},
     "output_type": "execute_result"
    }
   ],
   "source": [
    "#LogReg test\n",
    "peng_pred_logreg_test = log_reg.predict(feat_x_test)\n",
    "f1_logreg_test=f1_score(peng_y_test, peng_pred_logreg_test, average = 'macro'),\n",
    "acc_logreg_test=accuracy_score(peng_y_test, peng_pred_logreg_test),\n",
    "recall_logreg_test = recall_score(peng_y_test, peng_pred_logreg_test, average='macro')\n",
    "prec_logreg_test = precision_score(peng_y_test, peng_pred_logreg_test, average='macro')\n",
    "com_logreg_test = confusion_matrix(peng_y_test, peng_pred_logreg_test)\n",
    "f1_logreg_test, acc_logreg_test, com_logreg_test, prec_logreg_test, recall_logreg_test"
   ]
  },
  {
   "cell_type": "code",
   "execution_count": null,
   "metadata": {},
   "outputs": [],
   "source": []
  },
  {
   "cell_type": "code",
   "execution_count": null,
   "metadata": {},
   "outputs": [],
   "source": []
  },
  {
   "cell_type": "code",
   "execution_count": 434,
   "metadata": {},
   "outputs": [
    {
     "name": "stdout",
     "output_type": "stream",
     "text": [
      "LogisticRegression(max_iter=1000, penalty='l1', solver='liblinear')\n",
      "classes:  [0. 1. 2.]\n",
      "coefficients:  [[-5.77382822e+00 -4.57455085e+00  6.77887841e+00 -2.08480727e-01\n",
      "   1.05516832e-02 -3.62086837e-01  4.77272079e-02]\n",
      " [-2.45379600e-01 -6.66297078e-01 -5.03609123e+00  5.71756506e-01\n",
      "   2.04574492e-02  9.21531063e-01 -4.16050817e-02]\n",
      " [ 6.01920782e+00  5.24084791e+00 -1.74278719e+00 -3.63275859e-01\n",
      "  -3.10106070e-02 -5.59444227e-01 -6.12298722e-03]]\n",
      "intercept : [ 0.00229216  0.00045011 -0.00274228]\n"
     ]
    }
   ],
   "source": [
    "#With Lasso Regression L1, C is the inverse of regularization strength, C=1.0\n",
    "log_regL1 = skl_lm.LogisticRegression(solver = 'liblinear', penalty = 'l1',  max_iter = 1000)\n",
    "log_regL1.fit(feat_x_train, peng_y_train)\n",
    "print(log_regL1)\n",
    "print('classes: ',log_reg.classes_)\n",
    "print('coefficients: ',log_reg.coef_)\n",
    "print('intercept :', log_reg.intercept_)"
   ]
  },
  {
   "cell_type": "code",
   "execution_count": 466,
   "metadata": {},
   "outputs": [
    {
     "data": {
      "text/plain": [
       "((1.0,),\n",
       " (1.0,),\n",
       " array([[66,  0,  0],\n",
       "        [ 0, 64,  0],\n",
       "        [ 0,  0, 37]]),\n",
       " 1.0,\n",
       " 1.0)"
      ]
     },
     "execution_count": 466,
     "metadata": {},
     "output_type": "execute_result"
    }
   ],
   "source": [
    "#LogregL1 training\n",
    "peng_pred_logregL1_train = log_regL1.predict(feat_x_train)\n",
    "f1_logregL1_train=f1_score(peng_y_train, peng_pred_logregL1_train, average = 'macro'),\n",
    "acc_logregL1_train=accuracy_score(peng_y_train, peng_pred_logregL1_train),\n",
    "recall_logregL1_train = recall_score(peng_y_train, peng_pred_logregL1_train, average='macro')\n",
    "preclogregL1_train = precision_score(peng_y_train, peng_pred_logregL1_train, average='macro')\n",
    "com_logregL1_train = confusion_matrix(peng_y_train, peng_pred_logregL1_train)\n",
    "f1_logregL1_train, acc_logregL1_train, com_logregL1_train, preclogregL1_train, recall_logregL1_train"
   ]
  },
  {
   "cell_type": "code",
   "execution_count": 467,
   "metadata": {
    "scrolled": true
   },
   "outputs": [
    {
     "data": {
      "text/plain": [
       "((0.9924651257509419,),\n",
       " (0.9939759036144579,),\n",
       " array([[80,  0,  0],\n",
       "        [ 0, 55,  0],\n",
       "        [ 1,  0, 30]]),\n",
       " 0.9958847736625515,\n",
       " 0.989247311827957)"
      ]
     },
     "execution_count": 467,
     "metadata": {},
     "output_type": "execute_result"
    }
   ],
   "source": [
    "#LogregL1 test\n",
    "peng_pred_logregL1_test = log_regL1.predict(feat_x_test)\n",
    "f1_logregL1_test=f1_score(peng_y_test, peng_pred_logregL1_test, average = 'macro'),\n",
    "acc_logregL1_test=accuracy_score(peng_y_test, peng_pred_logregL1_test),\n",
    "recall_logregL1_test = recall_score(peng_y_test, peng_pred_logregL1_test, average='macro')\n",
    "preclogregL1_test = precision_score(peng_y_test, peng_pred_logregL1_test, average='macro')\n",
    "com_logregL1_test = confusion_matrix(peng_y_test, peng_pred_logregL1_test)\n",
    "f1_logregL1_test, acc_logregL1_test, com_logregL1_test, preclogregL1_test, recall_logregL1_test"
   ]
  },
  {
   "cell_type": "code",
   "execution_count": null,
   "metadata": {},
   "outputs": [],
   "source": []
  },
  {
   "cell_type": "code",
   "execution_count": 437,
   "metadata": {},
   "outputs": [
    {
     "name": "stdout",
     "output_type": "stream",
     "text": [
      "LogisticRegression(penalty='none', solver='newton-cg')\n",
      "classes:  [0. 1. 2.]\n",
      "coefficients:  [[-5.77382822e+00 -4.57455085e+00  6.77887841e+00 -2.08480727e-01\n",
      "   1.05516832e-02 -3.62086837e-01  4.77272079e-02]\n",
      " [-2.45379600e-01 -6.66297078e-01 -5.03609123e+00  5.71756506e-01\n",
      "   2.04574492e-02  9.21531063e-01 -4.16050817e-02]\n",
      " [ 6.01920782e+00  5.24084791e+00 -1.74278719e+00 -3.63275859e-01\n",
      "  -3.10106070e-02 -5.59444227e-01 -6.12298722e-03]]\n",
      "intercept : [ 0.00229216  0.00045011 -0.00274228]\n"
     ]
    }
   ],
   "source": [
    "#With Lasso Regula L1, C = .1\n",
    "log_regL1C0_1 = skl_lm.LogisticRegression(solver = 'liblinear', penalty = 'l1', C = 0.1,  max_iter = 1000)\n",
    "log_regL1C0_1.fit(feat_x_train, peng_y_train)\n",
    "print(log_reg)\n",
    "print('classes: ',log_reg.classes_)\n",
    "print('coefficients: ',log_reg.coef_)\n",
    "print('intercept :', log_reg.intercept_)"
   ]
  },
  {
   "cell_type": "code",
   "execution_count": 468,
   "metadata": {},
   "outputs": [
    {
     "data": {
      "text/plain": [
       "((0.9929275242901775,),\n",
       " (0.9940119760479041,),\n",
       " array([[66,  0,  0],\n",
       "        [ 0, 64,  0],\n",
       "        [ 1,  0, 36]]),\n",
       " 0.9950248756218905,\n",
       " 0.990990990990991)"
      ]
     },
     "execution_count": 468,
     "metadata": {},
     "output_type": "execute_result"
    }
   ],
   "source": [
    "#LogregL1 training\n",
    "peng_pred_logregL1C0_1_train = log_regL1C0_1.predict(feat_x_train)\n",
    "f1_logregL1C0_1_train=f1_score(peng_y_train, peng_pred_logregL1C0_1_train, average = 'macro'),\n",
    "acc_logregL1C0_1_train=accuracy_score(peng_y_train, peng_pred_logregL1C0_1_train),\n",
    "recall_logregL1C0_1_train = recall_score(peng_y_train, peng_pred_logregL1C0_1_train, average='macro')\n",
    "preclogregL1C0_1_train = precision_score(peng_y_train, peng_pred_logregL1C0_1_train, average='macro')\n",
    "com_logregL1C0_1_train = confusion_matrix(peng_y_train, peng_pred_logregL1C0_1_train)\n",
    "f1_logregL1C0_1_train, acc_logregL1C0_1_train, com_logregL1C0_1_train, preclogregL1C0_1_train, recall_logregL1C0_1_train"
   ]
  },
  {
   "cell_type": "code",
   "execution_count": 469,
   "metadata": {},
   "outputs": [
    {
     "data": {
      "text/plain": [
       "((0.9688814129520605,),\n",
       " (0.9759036144578314,),\n",
       " array([[80,  0,  0],\n",
       "        [ 0, 55,  0],\n",
       "        [ 4,  0, 27]]),\n",
       " 0.9841269841269842,\n",
       " 0.956989247311828)"
      ]
     },
     "execution_count": 469,
     "metadata": {},
     "output_type": "execute_result"
    }
   ],
   "source": [
    "#LogregL1 test\n",
    "peng_pred_logregL1C0_1_test = log_regL1C0_1.predict(feat_x_test)\n",
    "f1_logregL1C0_1_test=f1_score(peng_y_test, peng_pred_logregL1C0_1_test, average = 'macro'),\n",
    "acc_logregL1C0_1_test=accuracy_score(peng_y_test, peng_pred_logregL1C0_1_test),\n",
    "recall_logregL1C0_1_test = recall_score(peng_y_test, peng_pred_logregL1C0_1_test, average='macro')\n",
    "preclogregL1C0_1_test = precision_score(peng_y_test, peng_pred_logregL1C0_1_test, average='macro')\n",
    "com_logregL1C0_1_test = confusion_matrix(peng_y_test, peng_pred_logregL1C0_1_test)\n",
    "f1_logregL1C0_1_test, acc_logregL1C0_1_test, com_logregL1C0_1_test, preclogregL1C0_1_test, recall_logregL1C0_1_test"
   ]
  },
  {
   "cell_type": "code",
   "execution_count": null,
   "metadata": {},
   "outputs": [],
   "source": []
  },
  {
   "cell_type": "code",
   "execution_count": 440,
   "metadata": {},
   "outputs": [
    {
     "name": "stdout",
     "output_type": "stream",
     "text": [
      "LogisticRegression(penalty='none', solver='newton-cg')\n",
      "classes:  [0. 1. 2.]\n",
      "coefficients:  [[-5.77382822e+00 -4.57455085e+00  6.77887841e+00 -2.08480727e-01\n",
      "   1.05516832e-02 -3.62086837e-01  4.77272079e-02]\n",
      " [-2.45379600e-01 -6.66297078e-01 -5.03609123e+00  5.71756506e-01\n",
      "   2.04574492e-02  9.21531063e-01 -4.16050817e-02]\n",
      " [ 6.01920782e+00  5.24084791e+00 -1.74278719e+00 -3.63275859e-01\n",
      "  -3.10106070e-02 -5.59444227e-01 -6.12298722e-03]]\n",
      "intercept : [ 0.00229216  0.00045011 -0.00274228]\n"
     ]
    }
   ],
   "source": [
    "#With Lasso Regularization L1,C = 10\n",
    "log_regL1C10 = skl_lm.LogisticRegression(solver = 'liblinear', penalty = 'l1', C = 10,  max_iter = 1000)\n",
    "log_regL1C10.fit(feat_x_train, peng_y_train)\n",
    "print(log_reg)\n",
    "print('classes: ',log_reg.classes_)\n",
    "print('coefficients: ',log_reg.coef_)\n",
    "print('intercept :', log_reg.intercept_)"
   ]
  },
  {
   "cell_type": "code",
   "execution_count": 441,
   "metadata": {},
   "outputs": [
    {
     "data": {
      "text/plain": [
       "((1.0,),\n",
       " (1.0,),\n",
       " array([[66,  0,  0],\n",
       "        [ 0, 64,  0],\n",
       "        [ 0,  0, 37]]))"
      ]
     },
     "execution_count": 441,
     "metadata": {},
     "output_type": "execute_result"
    }
   ],
   "source": [
    "#LogregL1 training\n",
    "peng_pred_logregL1C10_train = log_regL1C10.predict(feat_x_train)\n",
    "f1_logregL1C10_train=f1_score(peng_y_train, peng_pred_logregL1C10_train, average = 'macro'),\n",
    "acc_logregL1C10_train=accuracy_score(peng_y_train, peng_pred_logregL1C10_train),\n",
    "recall_logregL1C10_train = recall_score(peng_y_train, peng_pred_logregL1C10_train, average='macro')\n",
    "preclogregL1C10_train = precision_score(peng_y_train, peng_pred_logregL1C10_train, average='macro')\n",
    "com_logregL1C10_train = confusion_matrix(peng_y_train, peng_pred_logregL1C10_train)\n",
    "f1_logregL1C10_train, acc_logregL1C10_train, com_logregL1C10_train"
   ]
  },
  {
   "cell_type": "code",
   "execution_count": 442,
   "metadata": {},
   "outputs": [
    {
     "data": {
      "text/plain": [
       "((1.0,),\n",
       " (1.0,),\n",
       " array([[80,  0,  0],\n",
       "        [ 0, 55,  0],\n",
       "        [ 0,  0, 31]]))"
      ]
     },
     "execution_count": 442,
     "metadata": {},
     "output_type": "execute_result"
    }
   ],
   "source": [
    "#LogregL1 test\n",
    "peng_pred_logregL1C10_test = log_regL1C10.predict(feat_x_test)\n",
    "f1_logregL1C10_test=f1_score(peng_y_test, peng_pred_logregL1C10_test, average = 'macro'),\n",
    "acc_logregL1C10_test=accuracy_score(peng_y_test, peng_pred_logregL1C10_test),\n",
    "recall_logregL1C10_test = recall_score(peng_y_test, peng_pred_logregL1C10_test, average='macro')\n",
    "preclogregL1C10_test = precision_score(peng_y_test, peng_pred_logregL1C10_test, average='macro')\n",
    "com_logregL1C10_test = confusion_matrix(peng_y_test, peng_pred_logregL1C10_test)\n",
    "f1_logregL1C10_test, acc_logregL1C10_test, com_logregL1C10_test"
   ]
  },
  {
   "cell_type": "code",
   "execution_count": null,
   "metadata": {},
   "outputs": [],
   "source": []
  },
  {
   "cell_type": "code",
   "execution_count": 443,
   "metadata": {},
   "outputs": [
    {
     "name": "stdout",
     "output_type": "stream",
     "text": [
      "LogisticRegression(penalty='none', solver='newton-cg')\n",
      "classes:  [0. 1. 2.]\n",
      "coefficients:  [[-5.77382822e+00 -4.57455085e+00  6.77887841e+00 -2.08480727e-01\n",
      "   1.05516832e-02 -3.62086837e-01  4.77272079e-02]\n",
      " [-2.45379600e-01 -6.66297078e-01 -5.03609123e+00  5.71756506e-01\n",
      "   2.04574492e-02  9.21531063e-01 -4.16050817e-02]\n",
      " [ 6.01920782e+00  5.24084791e+00 -1.74278719e+00 -3.63275859e-01\n",
      "  -3.10106070e-02 -5.59444227e-01 -6.12298722e-03]]\n",
      "intercept : [ 0.00229216  0.00045011 -0.00274228]\n"
     ]
    }
   ],
   "source": [
    "#With Rideg regression Regression L2, C is the inverse of regularization strength, C=1.0\n",
    "log_regL2 = skl_lm.LogisticRegression(solver = 'liblinear', penalty = 'l2', C=1.0,  max_iter = 1000)\n",
    "log_regL2.fit(feat_x_train, peng_y_train)\n",
    "print(log_reg)\n",
    "print('classes: ',log_reg.classes_)\n",
    "print('coefficients: ',log_reg.coef_)\n",
    "print('intercept :', log_reg.intercept_)"
   ]
  },
  {
   "cell_type": "code",
   "execution_count": 470,
   "metadata": {},
   "outputs": [
    {
     "data": {
      "text/plain": [
       "((0.9929275242901775,),\n",
       " (0.9940119760479041,),\n",
       " array([[66,  0,  0],\n",
       "        [ 0, 64,  0],\n",
       "        [ 1,  0, 36]]),\n",
       " 0.9950248756218905,\n",
       " 0.990990990990991)"
      ]
     },
     "execution_count": 470,
     "metadata": {},
     "output_type": "execute_result"
    }
   ],
   "source": [
    "#LogregL2 training\n",
    "peng_pred_logregL2_train = log_regL2.predict(feat_x_train)\n",
    "f1_logregL2_train=f1_score(peng_y_train, peng_pred_logregL2_train, average = 'macro'),\n",
    "acc_logregL2_train=accuracy_score(peng_y_train, peng_pred_logregL2_train),\n",
    "recall_logregL2_train = recall_score(peng_y_train, peng_pred_logregL2_train, average='macro')\n",
    "preclogregL2_train = precision_score(peng_y_train, peng_pred_logregL2_train, average='macro')\n",
    "com_logregL2_train = confusion_matrix(peng_y_train, peng_pred_logregL2_train)\n",
    "f1_logregL2_train, acc_logregL2_train, com_logregL2_train, preclogregL2_train, recall_logregL2_train"
   ]
  },
  {
   "cell_type": "code",
   "execution_count": 471,
   "metadata": {},
   "outputs": [
    {
     "data": {
      "text/plain": [
       "((0.9924651257509419,),\n",
       " (0.9939759036144579,),\n",
       " array([[80,  0,  0],\n",
       "        [ 0, 55,  0],\n",
       "        [ 1,  0, 30]]),\n",
       " 0.9958847736625515,\n",
       " 0.989247311827957)"
      ]
     },
     "execution_count": 471,
     "metadata": {},
     "output_type": "execute_result"
    }
   ],
   "source": [
    "#LogregL2 test\n",
    "peng_pred_logregL2_test = log_regL2.predict(feat_x_test)\n",
    "f1_logregL2_test=f1_score(peng_y_test, peng_pred_logregL2_test, average = 'macro'),\n",
    "acc_logregL2_test=accuracy_score(peng_y_test, peng_pred_logregL2_test),\n",
    "recall_logregL2_test = recall_score(peng_y_test, peng_pred_logregL2_test, average='macro')\n",
    "preclogregL2_test = precision_score(peng_y_test, peng_pred_logregL2_test, average='macro')\n",
    "com_logregL2_test = confusion_matrix(peng_y_test, peng_pred_logregL2_test)\n",
    "f1_logregL2_test, acc_logregL2_test, com_logregL2_test, preclogregL2_test, recall_logregL2_test"
   ]
  },
  {
   "cell_type": "code",
   "execution_count": null,
   "metadata": {},
   "outputs": [],
   "source": []
  },
  {
   "cell_type": "code",
   "execution_count": null,
   "metadata": {},
   "outputs": [],
   "source": []
  },
  {
   "cell_type": "code",
   "execution_count": null,
   "metadata": {},
   "outputs": [],
   "source": []
  },
  {
   "cell_type": "markdown",
   "metadata": {},
   "source": [
    "LDA"
   ]
  },
  {
   "cell_type": "code",
   "execution_count": 446,
   "metadata": {},
   "outputs": [
    {
     "data": {
      "text/plain": [
       "LinearDiscriminantAnalysis()"
      ]
     },
     "execution_count": 446,
     "metadata": {},
     "output_type": "execute_result"
    }
   ],
   "source": [
    "LDA= LinearDiscriminantAnalysis(solver='svd')\n",
    "LDA.fit(feat_x_train, peng_y_train)\n",
    "#peng_pred_LDA = lda_clf_A.predict(feat_x_test)"
   ]
  },
  {
   "cell_type": "code",
   "execution_count": 472,
   "metadata": {},
   "outputs": [
    {
     "data": {
      "text/plain": [
       "((1.0,),\n",
       " (1.0,),\n",
       " array([[66,  0,  0],\n",
       "        [ 0, 64,  0],\n",
       "        [ 0,  0, 37]]),\n",
       " 1.0,\n",
       " 1.0)"
      ]
     },
     "execution_count": 472,
     "metadata": {},
     "output_type": "execute_result"
    }
   ],
   "source": [
    "#LDA training\n",
    "peng_pred_LDA_train = LDA.predict(feat_x_train)\n",
    "f1_LDA_train=f1_score(peng_y_train, peng_pred_LDA_train, average = 'macro'),\n",
    "acc_LDA_train=accuracy_score(peng_y_train, peng_pred_LDA_train),\n",
    "recall_LDA_train = recall_score(peng_y_train, peng_pred_LDA_train, average='macro')\n",
    "precLDA_train = precision_score(peng_y_train, peng_pred_LDA_train, average='macro')\n",
    "com_LDA_train = confusion_matrix(peng_y_train, peng_pred_LDA_train)\n",
    "f1_LDA_train, acc_LDA_train, com_LDA_train, precLDA_train, recall_LDA_train "
   ]
  },
  {
   "cell_type": "code",
   "execution_count": 473,
   "metadata": {},
   "outputs": [
    {
     "data": {
      "text/plain": [
       "((0.9926125586502944,),\n",
       " (0.9939759036144579,),\n",
       " array([[79,  0,  1],\n",
       "        [ 0, 55,  0],\n",
       "        [ 0,  0, 31]]),\n",
       " 0.9895833333333334,\n",
       " 0.9958333333333332)"
      ]
     },
     "execution_count": 473,
     "metadata": {},
     "output_type": "execute_result"
    }
   ],
   "source": [
    "#LDA test\n",
    "peng_pred_LDA_test = LDA.predict(feat_x_test)\n",
    "f1_LDA_test=f1_score(peng_y_test, peng_pred_LDA_test, average = 'macro'),\n",
    "acc_LDA_test=accuracy_score(peng_y_test, peng_pred_LDA_test),\n",
    "recall_LDA_test = recall_score(peng_y_test, peng_pred_LDA_test, average='macro')\n",
    "precLDA_test = precision_score(peng_y_test, peng_pred_LDA_test, average='macro')\n",
    "com_LDA_test = confusion_matrix(peng_y_test, peng_pred_LDA_test)\n",
    "f1_LDA_test, acc_LDA_test, com_LDA_test, precLDA_test, recall_LDA_test"
   ]
  },
  {
   "cell_type": "code",
   "execution_count": null,
   "metadata": {},
   "outputs": [],
   "source": []
  },
  {
   "cell_type": "markdown",
   "metadata": {},
   "source": [
    "Tree (Gini)"
   ]
  },
  {
   "cell_type": "code",
   "execution_count": 449,
   "metadata": {},
   "outputs": [
    {
     "data": {
      "text/plain": [
       "21"
      ]
     },
     "execution_count": 449,
     "metadata": {},
     "output_type": "execute_result"
    }
   ],
   "source": [
    "#Randomly splits at crititeria determined using the Gini method\n",
    "RandTree = DecisionTreeClassifier(criterion='gini', splitter='random')\n",
    "RandTree.fit(feat_x_train, peng_y_train)\n",
    "RandTree.tree_.node_count"
   ]
  },
  {
   "cell_type": "code",
   "execution_count": 474,
   "metadata": {},
   "outputs": [
    {
     "data": {
      "text/plain": [
       "((1.0,),\n",
       " (1.0,),\n",
       " array([[66,  0,  0],\n",
       "        [ 0, 64,  0],\n",
       "        [ 0,  0, 37]]),\n",
       " 1.0,\n",
       " 1.0)"
      ]
     },
     "execution_count": 474,
     "metadata": {},
     "output_type": "execute_result"
    }
   ],
   "source": [
    "#RandTree training\n",
    "peng_pred_RandTree_train = RandTree.predict(feat_x_train)\n",
    "f1_RandTree_train=f1_score(peng_y_train, peng_pred_RandTree_train, average = 'macro'),\n",
    "acc_RandTree_train=accuracy_score(peng_y_train, peng_pred_RandTree_train),\n",
    "recall_RandTree_train = recall_score(peng_y_train, peng_pred_RandTree_train, average='macro')\n",
    "precRandTree_train = precision_score(peng_y_train, peng_pred_RandTree_train, average='macro')\n",
    "com_RandTree_train = confusion_matrix(peng_y_train, peng_pred_RandTree_train)\n",
    "f1_RandTree_train, acc_RandTree_train, com_RandTree_train, precRandTree_train, recall_RandTree_train"
   ]
  },
  {
   "cell_type": "code",
   "execution_count": 475,
   "metadata": {},
   "outputs": [
    {
     "data": {
      "text/plain": [
       "((0.9793033179900269,),\n",
       " (0.9819277108433735,),\n",
       " array([[78,  1,  1],\n",
       "        [ 0, 54,  1],\n",
       "        [ 0,  0, 31]]),\n",
       " 0.9737373737373738,\n",
       " 0.9856060606060607)"
      ]
     },
     "execution_count": 475,
     "metadata": {},
     "output_type": "execute_result"
    }
   ],
   "source": [
    "#RandTree test\n",
    "peng_pred_RandTree_test = RandTree.predict(feat_x_test)\n",
    "f1_RandTree_test=f1_score(peng_y_test, peng_pred_RandTree_test, average = 'macro'),\n",
    "acc_RandTree_test=accuracy_score(peng_y_test, peng_pred_RandTree_test),\n",
    "recall_RandTree_test = recall_score(peng_y_test, peng_pred_RandTree_test, average='macro')\n",
    "precRandTree_test = precision_score(peng_y_test, peng_pred_RandTree_test, average='macro')\n",
    "com_RandTree_test = confusion_matrix(peng_y_test, peng_pred_RandTree_test)\n",
    "f1_RandTree_test, acc_RandTree_test, com_RandTree_test, precRandTree_test, recall_RandTree_test"
   ]
  },
  {
   "cell_type": "markdown",
   "metadata": {},
   "source": [
    "BEST TREE (Gini)"
   ]
  },
  {
   "cell_type": "code",
   "execution_count": 452,
   "metadata": {},
   "outputs": [
    {
     "data": {
      "text/plain": [
       "21"
      ]
     },
     "execution_count": 452,
     "metadata": {},
     "output_type": "execute_result"
    }
   ],
   "source": [
    "#Chooses predicted best split based on crtiteria determined using the Gini method\n",
    "BestTree = DecisionTreeClassifier(criterion='gini', splitter='best')\n",
    "BestTree.fit(feat_x_train, peng_y_train)\n",
    "BestTree.tree_.node_count"
   ]
  },
  {
   "cell_type": "code",
   "execution_count": 453,
   "metadata": {},
   "outputs": [
    {
     "data": {
      "text/plain": [
       "((1.0,),\n",
       " (1.0,),\n",
       " array([[66,  0,  0],\n",
       "        [ 0, 64,  0],\n",
       "        [ 0,  0, 37]]))"
      ]
     },
     "execution_count": 453,
     "metadata": {},
     "output_type": "execute_result"
    }
   ],
   "source": [
    "#BestTree training\n",
    "peng_pred_BestTree_train = BestTree.predict(feat_x_train)\n",
    "f1_BestTree_train=f1_score(peng_y_train, peng_pred_BestTree_train, average = 'macro'),\n",
    "acc_BestTree_train=accuracy_score(peng_y_train, peng_pred_BestTree_train),\n",
    "recall_BestTree_train = recall_score(peng_y_train, peng_pred_BestTree_train, average='macro')\n",
    "precBestTree_train = precision_score(peng_y_train, peng_pred_BestTree_train, average='macro')\n",
    "com_BestTree_train = confusion_matrix(peng_y_train, peng_pred_BestTree_train)\n",
    "f1_BestTree_train, acc_BestTree_train, com_BestTree_train"
   ]
  },
  {
   "cell_type": "code",
   "execution_count": 454,
   "metadata": {},
   "outputs": [
    {
     "data": {
      "text/plain": [
       "((0.9623256287547094,),\n",
       " (0.9698795180722891,),\n",
       " array([[78,  0,  2],\n",
       "        [ 0, 55,  0],\n",
       "        [ 3,  0, 28]]))"
      ]
     },
     "execution_count": 454,
     "metadata": {},
     "output_type": "execute_result"
    }
   ],
   "source": [
    "#BestTree test\n",
    "peng_pred_BestTree_test = BestTree.predict(feat_x_test)\n",
    "f1_BestTree_test=f1_score(peng_y_test, peng_pred_BestTree_test, average = 'macro'),\n",
    "recall_BestTree_test = recall_score(peng_y_test, peng_pred_BestTree_test, average='macro')\n",
    "precBestTree_test = precision_score(peng_y_test, peng_pred_BestTree_test, average='macro')\n",
    "acc_BestTree_test=accuracy_score(peng_y_test, peng_pred_BestTree_test),\n",
    "com_BestTree_test = confusion_matrix(peng_y_test, peng_pred_BestTree_test)\n",
    "f1_BestTree_test, acc_BestTree_test, com_BestTree_test"
   ]
  },
  {
   "cell_type": "code",
   "execution_count": null,
   "metadata": {},
   "outputs": [],
   "source": []
  },
  {
   "cell_type": "markdown",
   "metadata": {},
   "source": [
    "Random Tree (Cross Entropy)"
   ]
  },
  {
   "cell_type": "code",
   "execution_count": 455,
   "metadata": {},
   "outputs": [
    {
     "data": {
      "text/plain": [
       "25"
      ]
     },
     "execution_count": 455,
     "metadata": {},
     "output_type": "execute_result"
    }
   ],
   "source": [
    "#Randomly splits at criteria determined using the Cross entropy method\n",
    "RandTreeEnt = DecisionTreeClassifier(criterion='entropy', splitter='random')\n",
    "RandTreeEnt.fit(feat_x_train, peng_y_train)\n",
    "RandTreeEnt.tree_.node_count"
   ]
  },
  {
   "cell_type": "code",
   "execution_count": 456,
   "metadata": {},
   "outputs": [
    {
     "data": {
      "text/plain": [
       "((1.0,),\n",
       " (1.0,),\n",
       " 1.0,\n",
       " 1.0,\n",
       " array([[66,  0,  0],\n",
       "        [ 0, 64,  0],\n",
       "        [ 0,  0, 37]]))"
      ]
     },
     "execution_count": 456,
     "metadata": {},
     "output_type": "execute_result"
    }
   ],
   "source": [
    "#RandTreeEnt training\n",
    "peng_pred_RandTreeEnt_train = RandTreeEnt.predict(feat_x_train)\n",
    "f1_RandTreeEnt_train=f1_score(peng_y_train, peng_pred_RandTreeEnt_train, average = 'macro'),\n",
    "acc_RandTreeEnt_train=accuracy_score(peng_y_train, peng_pred_RandTreeEnt_train),\n",
    "recall_RandTreeEnt_train = recall_score(peng_y_train, peng_pred_RandTreeEnt_train, average='macro')\n",
    "precRandTreeEnt_train = precision_score(peng_y_train, peng_pred_RandTreeEnt_train, average='macro')\n",
    "com_RandTreeEnt_train = confusion_matrix(peng_y_train, peng_pred_RandTreeEnt_train)\n",
    "f1_RandTreeEnt_train, acc_RandTreeEnt_train, recall_RandTreeEnt_train, precRandTreeEnt_train, com_RandTreeEnt_train,"
   ]
  },
  {
   "cell_type": "code",
   "execution_count": 476,
   "metadata": {},
   "outputs": [
    {
     "data": {
      "text/plain": [
       "((0.947091994692614,),\n",
       " (0.9518072289156626,),\n",
       " array([[72,  2,  6],\n",
       "        [ 0, 55,  0],\n",
       "        [ 0,  0, 31]]),\n",
       " 0.9342500395131973,\n",
       " 0.9666666666666667)"
      ]
     },
     "execution_count": 476,
     "metadata": {},
     "output_type": "execute_result"
    }
   ],
   "source": [
    "#RandTreeEnt test\n",
    "peng_pred_RandTreeEnt_test = RandTreeEnt.predict(feat_x_test)\n",
    "f1_RandTreeEnt_test=f1_score(peng_y_test, peng_pred_RandTreeEnt_test, average = 'macro'),\n",
    "acc_RandTreeEnt_test=accuracy_score(peng_y_test, peng_pred_RandTreeEnt_test),\n",
    "recall_RandTreeEnt_test = recall_score(peng_y_test, peng_pred_RandTreeEnt_test, average='macro')\n",
    "precRandTreeEnt_test = precision_score(peng_y_test, peng_pred_RandTreeEnt_test, average='macro')\n",
    "com_RandTreeEnt_test = confusion_matrix(peng_y_test, peng_pred_RandTreeEnt_test)\n",
    "f1_RandTreeEnt_test, acc_RandTreeEnt_test, com_RandTreeEnt_test, precRandTreeEnt_test, recall_RandTreeEnt_test"
   ]
  },
  {
   "cell_type": "code",
   "execution_count": null,
   "metadata": {},
   "outputs": [],
   "source": []
  },
  {
   "cell_type": "markdown",
   "metadata": {},
   "source": [
    "BEST TREE (Cross Entropy)"
   ]
  },
  {
   "cell_type": "code",
   "execution_count": 458,
   "metadata": {},
   "outputs": [
    {
     "data": {
      "text/plain": [
       "21"
      ]
     },
     "execution_count": 458,
     "metadata": {},
     "output_type": "execute_result"
    }
   ],
   "source": [
    "#Chooses predicted best split based on crtiteria determined using the Cross entropy method\n",
    "BestTreeEnt = DecisionTreeClassifier(criterion='entropy', splitter='best')\n",
    "BestTreeEnt.fit(feat_x_train, peng_y_train)\n",
    "BestTreeEnt.tree_.node_count\n"
   ]
  },
  {
   "cell_type": "code",
   "execution_count": 459,
   "metadata": {},
   "outputs": [
    {
     "data": {
      "text/plain": [
       "((1.0,),\n",
       " (1.0,),\n",
       " array([[66,  0,  0],\n",
       "        [ 0, 64,  0],\n",
       "        [ 0,  0, 37]]))"
      ]
     },
     "execution_count": 459,
     "metadata": {},
     "output_type": "execute_result"
    }
   ],
   "source": [
    "#BestTreeEnt training\n",
    "peng_pred_BestTreeEnt_train = BestTreeEnt.predict(feat_x_train)\n",
    "f1_BestTreeEnt_train=f1_score(peng_y_train, peng_pred_BestTreeEnt_train, average = 'macro'),\n",
    "acc_BestTreeEnt_train=accuracy_score(peng_y_train, peng_pred_BestTreeEnt_train),\n",
    "recall_BestTreeEnt_train = recall_score(peng_y_train, peng_pred_BestTreeEnt_train, average='macro')\n",
    "precBestTreeEnt_train = precision_score(peng_y_train, peng_pred_BestTreeEnt_train, average='macro')\n",
    "com_BestTreeEnt_train = confusion_matrix(peng_y_train, peng_pred_BestTreeEnt_train)\n",
    "f1_BestTreeEnt_train, acc_BestTreeEnt_train, com_BestTreeEnt_train"
   ]
  },
  {
   "cell_type": "code",
   "execution_count": 460,
   "metadata": {},
   "outputs": [
    {
     "data": {
      "text/plain": [
       "((0.9623256287547094,),\n",
       " (0.9698795180722891,),\n",
       " array([[78,  0,  2],\n",
       "        [ 0, 55,  0],\n",
       "        [ 3,  0, 28]]))"
      ]
     },
     "execution_count": 460,
     "metadata": {},
     "output_type": "execute_result"
    }
   ],
   "source": [
    "#BestTreeEnt test\n",
    "peng_pred_BestTreeEnt_test = BestTreeEnt.predict(feat_x_test)\n",
    "f1_BestTreeEnt_test=f1_score(peng_y_test, peng_pred_BestTreeEnt_test, average = 'macro'),\n",
    "acc_BestTreeEnt_test=accuracy_score(peng_y_test, peng_pred_BestTreeEnt_test),\n",
    "recall_BestTreeEnt_test = recall_score(peng_y_test, peng_pred_BestTreeEnt_test, average='macro')\n",
    "precBestTreeEnt_test = precision_score(peng_y_test, peng_pred_BestTreeEnt_test, average='macro')\n",
    "com_BestTreeEnt_test = confusion_matrix(peng_y_test, peng_pred_BestTreeEnt_test)\n",
    "f1_BestTreeEnt_test, acc_BestTreeEnt_test, com_BestTreeEnt_test"
   ]
  },
  {
   "cell_type": "code",
   "execution_count": null,
   "metadata": {},
   "outputs": [],
   "source": []
  }
 ],
 "metadata": {
  "kernelspec": {
   "display_name": "Python 3",
   "language": "python",
   "name": "python3"
  },
  "language_info": {
   "codemirror_mode": {
    "name": "ipython",
    "version": 3
   },
   "file_extension": ".py",
   "mimetype": "text/x-python",
   "name": "python",
   "nbconvert_exporter": "python",
   "pygments_lexer": "ipython3",
   "version": "3.8.5"
  }
 },
 "nbformat": 4,
 "nbformat_minor": 4
}
